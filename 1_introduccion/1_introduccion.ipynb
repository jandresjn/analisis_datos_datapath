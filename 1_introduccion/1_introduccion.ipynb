{
 "cells": [
  {
   "cell_type": "code",
   "execution_count": 1,
   "metadata": {},
   "outputs": [
    {
     "name": "stdout",
     "output_type": "stream",
     "text": [
      " el numero es 5\n"
     ]
    }
   ],
   "source": [
    "# Probando python\n",
    "v1=5\n",
    "if v1==5:\n",
    "    print(' el numero es 5')\n",
    "else:\n",
    "    print('el numero no es 5')"
   ]
  },
  {
   "cell_type": "code",
   "execution_count": 2,
   "metadata": {},
   "outputs": [
    {
     "name": "stdout",
     "output_type": "stream",
     "text": [
      "Pera Manzana platano\n"
     ]
    }
   ],
   "source": [
    "x,y,z = 'Pera', 'Manzana' , \"platano\"\n",
    "print(x)\n",
    "print(y)\n",
    "print(z)\n",
    "print(x,y,z)"
   ]
  },
  {
   "cell_type": "code",
   "execution_count": 6,
   "metadata": {},
   "outputs": [
    {
     "name": "stdout",
     "output_type": "stream",
     "text": [
      "<class 'list'>\n",
      "<class 'tuple'>\n",
      "<class 'dict'>\n",
      "<class 'set'>\n"
     ]
    }
   ],
   "source": [
    "list=[1,2,\"casa\"]\n",
    "tupla=(1,2,3)\n",
    "dict={\"casa\":3,\"perro\":10}\n",
    "set={1,'casa',\"perro\"}\n",
    "\n",
    "print(type(list))\n",
    "print(type(tupla))\n",
    "print(type(dict))\n",
    "print(type(set))\n",
    "\n"
   ]
  },
  {
   "cell_type": "code",
   "execution_count": 8,
   "metadata": {},
   "outputs": [
    {
     "name": "stdout",
     "output_type": "stream",
     "text": [
      "['xmen', 'venom', 'spiderman2']\n"
     ]
    }
   ],
   "source": [
    "peliculas = ['spiderman','xmen','avengers']\n",
    "peliculas.append('spiderman2')\n",
    "peliculas[2]='venom'\n",
    "peliculas.remove('spiderman')\n",
    "print(peliculas)"
   ]
  },
  {
   "cell_type": "code",
   "execution_count": 1,
   "metadata": {},
   "outputs": [
    {
     "name": "stdout",
     "output_type": "stream",
     "text": [
      "Índice: 0, Valor: apple\n",
      "Índice: 1, Valor: banana\n",
      "Índice: 2, Valor: cherry\n"
     ]
    }
   ],
   "source": [
    "# Ejercicios:\n",
    "lista = [\"apple\", \"banana\", \"cherry\"]\n",
    "for i, valor in enumerate(lista):\n",
    "    print(f\"Índice: {i}, Valor: {valor}\")"
   ]
  },
  {
   "cell_type": "code",
   "execution_count": null,
   "metadata": {},
   "outputs": [],
   "source": [
    "def buscarElemento(lista,objetivo):\n",
    "    asd;\n"
   ]
  },
  {
   "cell_type": "markdown",
   "metadata": {},
   "source": [
    "### Numeros positivos lista"
   ]
  },
  {
   "cell_type": "code",
   "execution_count": 4,
   "metadata": {},
   "outputs": [
    {
     "name": "stdout",
     "output_type": "stream",
     "text": [
      "No se encontraron números positivos.\n"
     ]
    },
    {
     "data": {
      "text/plain": [
       "[]"
      ]
     },
     "execution_count": 4,
     "metadata": {},
     "output_type": "execute_result"
    }
   ],
   "source": [
    "def buscar_numeros_positivos(lista):\n",
    "    positivos = [x for x in lista if x > 0]\n",
    "    \n",
    "    if positivos:\n",
    "        print(\"Números positivos encontrados:\", positivos)\n",
    "    else:\n",
    "        print(\"No se encontraron números positivos.\")\n",
    "    \n",
    "    return positivos\n",
    "\n",
    "# Ejemplo de uso\n",
    "lista = [-10, 15, -5, 20, 0, 25, -30]\n",
    "lista2 = [-20,-30,-40]\n",
    "buscar_numeros_positivos(lista2)"
   ]
  }
 ],
 "metadata": {
  "kernelspec": {
   "display_name": "Python 3",
   "language": "python",
   "name": "python3"
  },
  "language_info": {
   "codemirror_mode": {
    "name": "ipython",
    "version": 3
   },
   "file_extension": ".py",
   "mimetype": "text/x-python",
   "name": "python",
   "nbconvert_exporter": "python",
   "pygments_lexer": "ipython3",
   "version": "3.12.1"
  }
 },
 "nbformat": 4,
 "nbformat_minor": 2
}
