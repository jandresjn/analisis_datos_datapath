{
 "cells": [
  {
   "cell_type": "code",
   "execution_count": 1,
   "metadata": {},
   "outputs": [
    {
     "name": "stdout",
     "output_type": "stream",
     "text": [
      "El numero no es 6\n",
      "el numero es menor qeu 6\n"
     ]
    }
   ],
   "source": [
    "# Indentacion\n",
    "# {}, ;, () delimitan bloques de codigo - Java Javascript \n",
    "v1 = 5\n",
    "if v1 == 6 :\n",
    "    print('El numero es 6')\n",
    "    print('El numero es positivo')\n",
    "else:\n",
    "    print('El numero no es 6')\n",
    "    print('el numero es menor qeu 6')\n"
   ]
  },
  {
   "cell_type": "code",
   "execution_count": 2,
   "metadata": {},
   "outputs": [
    {
     "ename": "IndentationError",
     "evalue": "expected an indented block after 'if' statement on line 2 (743803944.py, line 3)",
     "output_type": "error",
     "traceback": [
      "\u001b[0;36m  Cell \u001b[0;32mIn[2], line 3\u001b[0;36m\u001b[0m\n\u001b[0;31m    print('El numero es 6')\u001b[0m\n\u001b[0m    ^\u001b[0m\n\u001b[0;31mIndentationError\u001b[0m\u001b[0;31m:\u001b[0m expected an indented block after 'if' statement on line 2\n"
     ]
    }
   ],
   "source": [
    "v1 = 5\n",
    "if v1 == 6 :\n",
    "    print('El numero es 6')\n",
    "    print('El numero es positivo')\n",
    "else:\n",
    "print('El numero no es 6')\n",
    "print('el numero es menor qeu 6')"
   ]
  },
  {
   "cell_type": "code",
   "execution_count": null,
   "metadata": {},
   "outputs": [],
   "source": [
    "# Comentarios\n",
    "# Usar: documentar el codigo, documentar funciones para que nuestro codigo sea legible\n"
   ]
  },
  {
   "cell_type": "code",
   "execution_count": 5,
   "metadata": {},
   "outputs": [],
   "source": [
    "# Variables\n",
    "# Java -> String varaible1;\n",
    "variable1 = 'Datapath'\n",
    "variable2 = 3\n",
    "variable3 = 2.4\n",
    "variable4 = 3j"
   ]
  },
  {
   "cell_type": "code",
   "execution_count": 7,
   "metadata": {},
   "outputs": [
    {
     "name": "stdout",
     "output_type": "stream",
     "text": [
      "<class 'str'>\n",
      "<class 'int'>\n",
      "<class 'float'>\n",
      "<class 'complex'>\n"
     ]
    }
   ],
   "source": [
    "print(type(variable1))\n",
    "print(type(variable2))\n",
    "print(type(variable3))\n",
    "print(type(variable4))"
   ]
  },
  {
   "cell_type": "code",
   "execution_count": 8,
   "metadata": {},
   "outputs": [
    {
     "name": "stdout",
     "output_type": "stream",
     "text": [
      "Pera\n",
      "Manzana\n",
      "Platano\n"
     ]
    }
   ],
   "source": [
    "x, y, z = 'Pera', 'Manzana', \"Platano\"\n",
    "print(x)\n",
    "print(y)\n",
    "print(z)"
   ]
  },
  {
   "cell_type": "code",
   "execution_count": 9,
   "metadata": {},
   "outputs": [
    {
     "name": "stdout",
     "output_type": "stream",
     "text": [
      "Datapath\n",
      "D\n"
     ]
    }
   ],
   "source": [
    "# String\n",
    "\n",
    "var1 = \"Datapath\"\n",
    "\n",
    "print(var1)\n",
    "print(var1[0])"
   ]
  },
  {
   "cell_type": "code",
   "execution_count": 10,
   "metadata": {},
   "outputs": [],
   "source": [
    "# Listas\n",
    "\n",
    "lista1 = []\n",
    "\n",
    "lista2 = [1, 2, 5, 6, 9] # lista de enteros\n",
    "\n",
    "lista3 = ['datapath', 'Python']\n",
    "\n",
    "lista4 = [1, \"Python\", 4j] # Lista mixta\n",
    "\n",
    "lista5 = [\"Manzana\", 4, [4, 5, 7], [1,6,'Datapath']] # lista anidada\n",
    "\n"
   ]
  },
  {
   "cell_type": "code",
   "execution_count": 13,
   "metadata": {},
   "outputs": [
    {
     "name": "stdout",
     "output_type": "stream",
     "text": [
      "['Manzana', 4, [4, 5, 7], [1, 6, 'Datapath']]\n",
      "Manzana\n",
      "[1, 6, 'Datapath']\n",
      "Datapath\n"
     ]
    }
   ],
   "source": [
    "print (lista5)\n",
    "print(lista5[0])\n",
    "print(lista5[3])\n",
    "print(lista5[3][2])\n"
   ]
  },
  {
   "cell_type": "code",
   "execution_count": 4,
   "metadata": {},
   "outputs": [
    {
     "name": "stdout",
     "output_type": "stream",
     "text": [
      "[1, 2, 3, 4]\n",
      "[1, 2]\n",
      "[2, 3]\n"
     ]
    }
   ],
   "source": [
    "lista_nueva = [1, 3, 4, 5]\n",
    "\n",
    "# Corregir una lista\n",
    "\n",
    "lista_nueva[1] = 2\n",
    "\n",
    "lista_nueva[2] = 3\n",
    "\n",
    "lista_nueva[3] =4\n",
    "\n",
    "print(lista_nueva)\n",
    "\n",
    "print(lista_nueva[0:2])\n",
    "\n",
    "print(lista_nueva[1:3])\n"
   ]
  },
  {
   "cell_type": "code",
   "execution_count": 5,
   "metadata": {},
   "outputs": [
    {
     "name": "stdout",
     "output_type": "stream",
     "text": [
      "[1, 7, 8, 4]\n"
     ]
    }
   ],
   "source": [
    "lista_nueva[1:3] = [7,8]\n",
    "\n",
    "print(lista_nueva)"
   ]
  },
  {
   "cell_type": "code",
   "execution_count": 7,
   "metadata": {},
   "outputs": [
    {
     "name": "stdout",
     "output_type": "stream",
     "text": [
      "[1, 7, 8, 4, 10, 10]\n",
      "[1, 7, 8, 4, 10, 10, 2, 3, 5]\n"
     ]
    }
   ],
   "source": [
    "# append -> agregar un elemnto\n",
    "# extend -> agrega una lista de elementos\n",
    "\n",
    "lista_nueva.append(10)\n",
    "\n",
    "print(lista_nueva)\n",
    "\n",
    "lista_nueva.extend([2, 3, 5])\n",
    "\n",
    "print(lista_nueva)"
   ]
  },
  {
   "cell_type": "code",
   "execution_count": 8,
   "metadata": {},
   "outputs": [
    {
     "name": "stdout",
     "output_type": "stream",
     "text": [
      "[1, 7, 8, 4, 10, 10, 2, 3, 5, [12, 13, 15]]\n"
     ]
    }
   ],
   "source": [
    "lista_nueva.append([12, 13, 15])\n",
    "print(lista_nueva)"
   ]
  },
  {
   "cell_type": "code",
   "execution_count": 13,
   "metadata": {},
   "outputs": [
    {
     "name": "stdout",
     "output_type": "stream",
     "text": [
      "Elemento\n",
      "1\n",
      "Elemento\n",
      "7\n",
      "Elemento\n",
      "8\n",
      "Elemento\n",
      "4\n",
      "Elemento\n",
      "10\n",
      "Elemento\n",
      "10\n",
      "Elemento\n",
      "2\n",
      "Elemento\n",
      "3\n",
      "Elemento\n",
      "5\n",
      "Elemento\n",
      "[12, 13, 15]\n",
      "Final\n"
     ]
    }
   ],
   "source": [
    "# Para cada elemento dentro de lista_nueva hacer:\n",
    "for item in lista_nueva:\n",
    "    print(\"Elemento\")\n",
    "    print(item)\n",
    "\n",
    "print(\"Final\")\n",
    "    "
   ]
  },
  {
   "cell_type": "code",
   "execution_count": 14,
   "metadata": {},
   "outputs": [
    {
     "name": "stdout",
     "output_type": "stream",
     "text": [
      "('Juan', 2, 5, (1, 4, 5))\n"
     ]
    }
   ],
   "source": [
    "# Tuplas\n",
    "\n",
    "tupla = ()\n",
    "\n",
    "tupla_enteros = (1, 2, 3, 4, 5)\n",
    "\n",
    "tupla_mixta = ('Juan', 1, 4.4)\n",
    "\n",
    "tupla_anidada = ('Juan', 2, 5, (1, 4, 5))\n",
    "\n",
    "print(tupla_anidada)"
   ]
  },
  {
   "cell_type": "code",
   "execution_count": 18,
   "metadata": {},
   "outputs": [
    {
     "name": "stdout",
     "output_type": "stream",
     "text": [
      "1\n"
     ]
    }
   ],
   "source": [
    "print(tupla_mixta[1])"
   ]
  },
  {
   "cell_type": "code",
   "execution_count": 19,
   "metadata": {},
   "outputs": [
    {
     "ename": "TypeError",
     "evalue": "'tuple' object does not support item assignment",
     "output_type": "error",
     "traceback": [
      "\u001b[0;31m---------------------------------------------------------------------------\u001b[0m",
      "\u001b[0;31mTypeError\u001b[0m                                 Traceback (most recent call last)",
      "Cell \u001b[0;32mIn[19], line 1\u001b[0m\n\u001b[0;32m----> 1\u001b[0m \u001b[43mtupla_mixta\u001b[49m\u001b[43m[\u001b[49m\u001b[38;5;241;43m1\u001b[39;49m\u001b[43m]\u001b[49m \u001b[38;5;241m=\u001b[39m \u001b[38;5;124m'\u001b[39m\u001b[38;5;124m3\u001b[39m\u001b[38;5;124m'\u001b[39m\n",
      "\u001b[0;31mTypeError\u001b[0m: 'tuple' object does not support item assignment"
     ]
    }
   ],
   "source": [
    "tupla_mixta[1] = '3'"
   ]
  },
  {
   "cell_type": "code",
   "execution_count": 22,
   "metadata": {},
   "outputs": [
    {
     "name": "stdout",
     "output_type": "stream",
     "text": [
      "<class 'str'>\n",
      "<class 'tuple'>\n"
     ]
    }
   ],
   "source": [
    "tupla = (\"Manzana\")\n",
    "print(type(tupla))\n",
    "\n",
    "tupla = (\"Manzana\",)\n",
    "\n",
    "# Parentesis opcional\n",
    "\n",
    "tupla = \"Manzana\",\n",
    "\n",
    "print(type(tupla))\n"
   ]
  },
  {
   "cell_type": "code",
   "execution_count": 24,
   "metadata": {},
   "outputs": [
    {
     "name": "stdout",
     "output_type": "stream",
     "text": [
      "Juan\n",
      "2\n",
      "5\n",
      "(1, 4, 5)\n"
     ]
    }
   ],
   "source": [
    "for item in  tupla_anidada:\n",
    "    print(item)"
   ]
  },
  {
   "cell_type": "code",
   "execution_count": 28,
   "metadata": {},
   "outputs": [
    {
     "name": "stdout",
     "output_type": "stream",
     "text": [
      "{'name': 'Juan', 'age': 25, 1: '4807652233', 'lista': [1, 2, 4, 5]}\n"
     ]
    }
   ],
   "source": [
    "# Diccionarios\n",
    "# {\"key\":\"value\", \"key2\":\"Value2\"}\n",
    "\n",
    "diccionario = {}\n",
    "\n",
    "diccionario_enteros = {1: \"Juan\", 2: \"Maria\"}\n",
    "\n",
    "diccionario_mixta = {'name': \"Juan\", \"age\": 25, 1: \"4807652233\", \"lista\": [1, 2, 4, 5]}\n",
    "print(diccionario_mixta)\n",
    "\n"
   ]
  },
  {
   "cell_type": "code",
   "execution_count": 29,
   "metadata": {},
   "outputs": [
    {
     "name": "stdout",
     "output_type": "stream",
     "text": [
      "Juan\n",
      "25\n"
     ]
    }
   ],
   "source": [
    "print(diccionario_mixta[\"name\"])\n",
    "print(diccionario_mixta[\"age\"])"
   ]
  },
  {
   "cell_type": "code",
   "execution_count": 31,
   "metadata": {},
   "outputs": [
    {
     "name": "stdout",
     "output_type": "stream",
     "text": [
      "4807652233\n"
     ]
    }
   ],
   "source": [
    "print(diccionario_mixta[1])\n"
   ]
  },
  {
   "cell_type": "code",
   "execution_count": 32,
   "metadata": {},
   "outputs": [
    {
     "name": "stdout",
     "output_type": "stream",
     "text": [
      "Juan\n",
      "25\n",
      "lima\n"
     ]
    }
   ],
   "source": [
    "diccionario_mixta = {'name': \"Juan\", \"age\": 25, \"address\": \"lima\"}\n",
    "\n",
    "print(diccionario_mixta[\"name\"])\n",
    "print(diccionario_mixta[\"age\"])\n",
    "print(diccionario_mixta[\"address\"])"
   ]
  },
  {
   "cell_type": "code",
   "execution_count": 37,
   "metadata": {},
   "outputs": [],
   "source": [
    "diccionario_mixta = {'name': \"Juan\", \"age\": 25}\n",
    "\n",
    "name =  (diccionario_mixta[\"name\"])\n",
    "age = (diccionario_mixta[\"age\"])\n",
    "address = (diccionario_mixta.get(\"address\"))"
   ]
  },
  {
   "cell_type": "code",
   "execution_count": null,
   "metadata": {},
   "outputs": [],
   "source": [
    "# {'name': \"Juan\", \"age\": 25, \"address\": null} DataFrame\n",
    "# {'name': \"Juan\", \"age\": 25} <- Json File"
   ]
  },
  {
   "cell_type": "code",
   "execution_count": 38,
   "metadata": {},
   "outputs": [
    {
     "name": "stdout",
     "output_type": "stream",
     "text": [
      "{'name': 'Juan', 'age': 25, 'id': 123456789}\n"
     ]
    }
   ],
   "source": [
    "diccionario_mixta[\"id\"] = 123456789\n",
    "print(diccionario_mixta)"
   ]
  },
  {
   "cell_type": "code",
   "execution_count": 39,
   "metadata": {},
   "outputs": [
    {
     "name": "stdout",
     "output_type": "stream",
     "text": [
      "{'name': 'Juan', 'age': 25, 'id': 98765432}\n"
     ]
    }
   ],
   "source": [
    "diccionario_mixta[\"id\"] = 98765432\n",
    "print(diccionario_mixta)"
   ]
  },
  {
   "cell_type": "code",
   "execution_count": 41,
   "metadata": {},
   "outputs": [
    {
     "name": "stdout",
     "output_type": "stream",
     "text": [
      "name ->  Juan\n",
      "age ->  25\n",
      "id ->  98765432\n"
     ]
    }
   ],
   "source": [
    "for key in diccionario_mixta:\n",
    "    print(key, '-> ', diccionario_mixta[key])"
   ]
  },
  {
   "cell_type": "code",
   "execution_count": 42,
   "metadata": {},
   "outputs": [
    {
     "name": "stdout",
     "output_type": "stream",
     "text": [
      "('name', 'Juan')\n",
      "('age', 25)\n",
      "('id', 98765432)\n"
     ]
    }
   ],
   "source": [
    "for item in diccionario_mixta.items():\n",
    "    print(item)"
   ]
  },
  {
   "cell_type": "code",
   "execution_count": 44,
   "metadata": {},
   "outputs": [
    {
     "name": "stdout",
     "output_type": "stream",
     "text": [
      "5  es negativo\n"
     ]
    }
   ],
   "source": [
    "# control de flujo\n",
    "\n",
    "# If \n",
    "\n",
    "num = 5\n",
    "\n",
    "if num < 0:\n",
    "    print(num, \" es mayor que cero y es positivo\")\n",
    "else:\n",
    "    print(num, \" es negativo\")"
   ]
  },
  {
   "cell_type": "code",
   "execution_count": 49,
   "metadata": {},
   "outputs": [
    {
     "name": "stdout",
     "output_type": "stream",
     "text": [
      "el numero es positivo\n"
     ]
    }
   ],
   "source": [
    "num = int(input(\"Ingresa un numero: \"))\n",
    "\n",
    "if num >= 0:\n",
    "    if num == 0:\n",
    "        print(\"el numero ingresado es 0\")\n",
    "    else:\n",
    "        print(\"el numero es positivo\")\n",
    "else:\n",
    "    print(\"El numero es negativo\")"
   ]
  },
  {
   "cell_type": "code",
   "execution_count": 52,
   "metadata": {},
   "outputs": [
    {
     "name": "stdout",
     "output_type": "stream",
     "text": [
      "el numero ingresado es 5 \n"
     ]
    }
   ],
   "source": [
    "num = int(input(\"Ingresa un numero: \"))\n",
    "\n",
    "if num >= 0:\n",
    "    if num == 0:\n",
    "        print(\"el numero ingresado es 0\")\n",
    "    elif num == 5:\n",
    "        print(\"el numero ingresado es 5 \")\n",
    "    else:\n",
    "        print(\"El numero ingresado es positivo\")\n",
    "else:\n",
    "    print(\"El numero es negativo\")"
   ]
  },
  {
   "cell_type": "code",
   "execution_count": 59,
   "metadata": {},
   "outputs": [
    {
     "name": "stdout",
     "output_type": "stream",
     "text": [
      "suma = 0\n",
      "1\n",
      "suma = 1\n",
      "2\n",
      "suma = 3\n",
      "3\n",
      "suma = 6\n",
      "4\n",
      "suma = 10\n",
      "5\n",
      "Suma total 15\n"
     ]
    }
   ],
   "source": [
    "# For\n",
    "\n",
    "numeros = [1, 2, 3, 4, 5]\n",
    "\n",
    "suma = 0\n",
    "\n",
    "for item in numeros:\n",
    "    print(\"suma =\", suma)\n",
    "    print(item)\n",
    "    suma = suma + item\n",
    "\n",
    "print(\"Suma total\", suma)"
   ]
  },
  {
   "cell_type": "code",
   "execution_count": 79,
   "metadata": {},
   "outputs": [
    {
     "name": "stdout",
     "output_type": "stream",
     "text": [
      "101475\n"
     ]
    }
   ],
   "source": [
    "#while \n",
    "\n",
    "n = 450\n",
    "suma = 0\n",
    "i = 1\n",
    "\n",
    "while i <= n:\n",
    "    suma +=i\n",
    "    i += 1\n",
    "\n",
    "print(suma)\n"
   ]
  },
  {
   "cell_type": "code",
   "execution_count": 66,
   "metadata": {},
   "outputs": [
    {
     "name": "stdout",
     "output_type": "stream",
     "text": [
      "0\n",
      "1\n",
      "2\n"
     ]
    }
   ],
   "source": [
    "# break, continue, pass\n",
    "\n",
    "for item in range(5):\n",
    "    if item == 3:\n",
    "        break\n",
    "    print(item)"
   ]
  },
  {
   "cell_type": "code",
   "execution_count": 67,
   "metadata": {},
   "outputs": [
    {
     "name": "stdout",
     "output_type": "stream",
     "text": [
      "0\n",
      "1\n",
      "2\n",
      "4\n"
     ]
    }
   ],
   "source": [
    "for item in range(5):\n",
    "    if item == 3:\n",
    "        continue\n",
    "    print(item)"
   ]
  },
  {
   "cell_type": "code",
   "execution_count": 74,
   "metadata": {},
   "outputs": [],
   "source": [
    "def funcion():\n",
    "    pass\n",
    "for item in range(5):\n",
    "    pass"
   ]
  },
  {
   "cell_type": "code",
   "execution_count": 77,
   "metadata": {},
   "outputs": [
    {
     "name": "stdout",
     "output_type": "stream",
     "text": [
      "Try\n",
      "Ha sucedido un error\n",
      "division by zero\n"
     ]
    }
   ],
   "source": [
    "try:\n",
    "    print(\"Try\")\n",
    "    b = 5/0\n",
    "except Exception as e:\n",
    "    print(\"Ha sucedido un error\")\n",
    "    print(e)"
   ]
  },
  {
   "cell_type": "code",
   "execution_count": 84,
   "metadata": {},
   "outputs": [
    {
     "name": "stdout",
     "output_type": "stream",
     "text": [
      "16\n",
      "4\n",
      "60\n",
      "1.6666666666666667\n",
      "1\n",
      "4\n"
     ]
    }
   ],
   "source": [
    "# Operadores de asignacion\n",
    "\n",
    "a = 10\n",
    "b = 6\n",
    "\n",
    "x = a + b\n",
    "\n",
    "x = a; x+=b; print(x) # x+=b; x = x + b \n",
    "x = a; x-=b; print(x)\n",
    "x = a; x*=b; print(x)\n",
    "x = a; x/=b; print(x)\n",
    "x = a; x//=b; print(x)\n",
    "x = a; x%=b; print(x)\n"
   ]
  },
  {
   "cell_type": "code",
   "execution_count": 104,
   "metadata": {},
   "outputs": [],
   "source": [
    "# Funciones\n",
    "\n",
    "def funcion():\n",
    "    print(\"hola\")\n",
    "    return \"Hola Mundo\""
   ]
  },
  {
   "cell_type": "code",
   "execution_count": 105,
   "metadata": {},
   "outputs": [
    {
     "name": "stdout",
     "output_type": "stream",
     "text": [
      "hola\n",
      "Hola Mundo\n"
     ]
    }
   ],
   "source": [
    "func = funcion()\n",
    "\n",
    "print(func)"
   ]
  },
  {
   "cell_type": "code",
   "execution_count": 87,
   "metadata": {},
   "outputs": [],
   "source": [
    "def funcion(num):\n",
    "    return num*4"
   ]
  },
  {
   "cell_type": "code",
   "execution_count": 88,
   "metadata": {},
   "outputs": [
    {
     "data": {
      "text/plain": [
       "8"
      ]
     },
     "execution_count": 88,
     "metadata": {},
     "output_type": "execute_result"
    }
   ],
   "source": [
    "funcion(2)"
   ]
  },
  {
   "cell_type": "code",
   "execution_count": 89,
   "metadata": {},
   "outputs": [],
   "source": [
    "def suma(a, b):\n",
    "    return a + b"
   ]
  },
  {
   "cell_type": "code",
   "execution_count": 90,
   "metadata": {},
   "outputs": [
    {
     "data": {
      "text/plain": [
       "11"
      ]
     },
     "execution_count": 90,
     "metadata": {},
     "output_type": "execute_result"
    }
   ],
   "source": [
    "suma(5, 6)"
   ]
  },
  {
   "cell_type": "code",
   "execution_count": 91,
   "metadata": {},
   "outputs": [
    {
     "data": {
      "text/plain": [
       "7"
      ]
     },
     "execution_count": 91,
     "metadata": {},
     "output_type": "execute_result"
    }
   ],
   "source": [
    "suma = lambda a,b: a+b\n",
    "suma(2,5)"
   ]
  },
  {
   "cell_type": "code",
   "execution_count": 92,
   "metadata": {},
   "outputs": [],
   "source": [
    "def suma_numeros(num):\n",
    "    \n",
    "    suma = 0\n",
    "    i = 1\n",
    "\n",
    "    while i <= num:\n",
    "        suma +=i\n",
    "        i += 1\n",
    "\n",
    "    return suma"
   ]
  },
  {
   "cell_type": "code",
   "execution_count": 96,
   "metadata": {},
   "outputs": [],
   "source": [
    "suma = suma_numeros(15)"
   ]
  },
  {
   "cell_type": "markdown",
   "metadata": {},
   "source": [
    "#### Ejercicios\n",
    "\n",
    "1. funcion para buscar un elemento en una lista \n",
    "2. funcion que sume los numeros positivos de una lista\n",
    "3. funcions que busque una clave de un diccionario\n",
    "4. filtrar numeros impares en una lista\n"
   ]
  },
  {
   "cell_type": "markdown",
   "metadata": {},
   "source": []
  },
  {
   "cell_type": "code",
   "execution_count": 115,
   "metadata": {},
   "outputs": [],
   "source": [
    "def busca_elemento (lista, elemento):\n",
    "    for item in lista:\n",
    "        print(item)\n",
    "        if item == elemento:\n",
    "            return \"Elemento encontrado\"\n",
    "        \n",
    "\n",
    "\n",
    "\n",
    "def busca_elemento (lista, elemento):\n",
    "    for i, item in enumerate(lista):\n",
    "        if item == elemento:\n",
    "            return i\n",
    "\n",
    "lista = [1,2,-3,4,5]\n",
    "elemnto = 3\n",
    "\n",
    "busca_elemento(lista, elemnto)\n",
    "\n"
   ]
  },
  {
   "cell_type": "code",
   "execution_count": 116,
   "metadata": {},
   "outputs": [
    {
     "data": {
      "text/plain": [
       "12"
      ]
     },
     "execution_count": 116,
     "metadata": {},
     "output_type": "execute_result"
    }
   ],
   "source": [
    "def suma_positivo(lista):\n",
    "    suma = 0\n",
    "    for num in lista:\n",
    "        if num > 0:\n",
    "            suma += num\n",
    "\n",
    "    return suma\n",
    "\n",
    "suma_positivo(lista)"
   ]
  },
  {
   "cell_type": "code",
   "execution_count": 122,
   "metadata": {},
   "outputs": [
    {
     "data": {
      "text/plain": [
       "True"
      ]
     },
     "execution_count": 122,
     "metadata": {},
     "output_type": "execute_result"
    }
   ],
   "source": [
    "diccionario = {\"name\": \"Juan\", \"age\": 25}\n",
    "\n",
    "# def existe_clave(diccionario, clave):\n",
    "#     if diccionario.get(clave):\n",
    "#         return True\n",
    "#     else: \n",
    "#         return False\n",
    "    \n",
    "def existe_clave(diccionario, clave):\n",
    "    return clave in diccionario\n",
    "    \n",
    "existe_clave(diccionario,\"name\")"
   ]
  },
  {
   "cell_type": "code",
   "execution_count": null,
   "metadata": {},
   "outputs": [],
   "source": []
  }
 ],
 "metadata": {
  "kernelspec": {
   "display_name": "Python 3",
   "language": "python",
   "name": "python3"
  },
  "language_info": {
   "codemirror_mode": {
    "name": "ipython",
    "version": 3
   },
   "file_extension": ".py",
   "mimetype": "text/x-python",
   "name": "python",
   "nbconvert_exporter": "python",
   "pygments_lexer": "ipython3",
   "version": "3.12.1"
  }
 },
 "nbformat": 4,
 "nbformat_minor": 2
}
